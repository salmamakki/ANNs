{
 "cells": [
  {
   "cell_type": "markdown",
   "metadata": {},
   "source": [
    "# Keras Syntax Basics\n",
    "\n",
    "With TensorFlow 2.0 , Keras is now the main API choice. Let's work through a simple regression project to understand the basics of the Keras syntax and adding layers."
   ]
  },
  {
   "cell_type": "markdown",
   "metadata": {},
   "source": [
    "## The Data\n",
    "\n",
    "To learn the basic syntax of Keras, we will use a very simple fake data set, in the subsequent lectures we will focus on real datasets, along with feature engineering! For now, let's focus on the syntax of TensorFlow 2.0.\n",
    "\n",
    "Let's pretend this data are measurements of some rare gem stones, with 2 measurement features and a sale price. Our final goal would be to try to predict the sale price of a new gem stone we just mined from the ground, in order to try to set a fair price in the market.\n",
    "\n",
    "### Load the Data"
   ]
  },
  {
   "cell_type": "code",
   "execution_count": 1,
   "metadata": {},
   "outputs": [],
   "source": [
    "import pandas as pd"
   ]
  },
  {
   "cell_type": "code",
   "execution_count": 6,
   "metadata": {},
   "outputs": [],
   "source": [
    "import warnings\n",
    "warnings.filterwarnings('ignore')"
   ]
  },
  {
   "cell_type": "code",
   "execution_count": 3,
   "metadata": {},
   "outputs": [],
   "source": [
    "df = pd.read_csv('../DATA/fake_reg.csv')"
   ]
  },
  {
   "cell_type": "code",
   "execution_count": 4,
   "metadata": {},
   "outputs": [
    {
     "data": {
      "text/html": [
       "<div>\n",
       "<style scoped>\n",
       "    .dataframe tbody tr th:only-of-type {\n",
       "        vertical-align: middle;\n",
       "    }\n",
       "\n",
       "    .dataframe tbody tr th {\n",
       "        vertical-align: top;\n",
       "    }\n",
       "\n",
       "    .dataframe thead th {\n",
       "        text-align: right;\n",
       "    }\n",
       "</style>\n",
       "<table border=\"1\" class=\"dataframe\">\n",
       "  <thead>\n",
       "    <tr style=\"text-align: right;\">\n",
       "      <th></th>\n",
       "      <th>price</th>\n",
       "      <th>feature1</th>\n",
       "      <th>feature2</th>\n",
       "    </tr>\n",
       "  </thead>\n",
       "  <tbody>\n",
       "    <tr>\n",
       "      <th>count</th>\n",
       "      <td>1000.000000</td>\n",
       "      <td>1000.000000</td>\n",
       "      <td>1000.000000</td>\n",
       "    </tr>\n",
       "    <tr>\n",
       "      <th>mean</th>\n",
       "      <td>498.673029</td>\n",
       "      <td>1000.014171</td>\n",
       "      <td>999.979847</td>\n",
       "    </tr>\n",
       "    <tr>\n",
       "      <th>std</th>\n",
       "      <td>93.785431</td>\n",
       "      <td>0.974018</td>\n",
       "      <td>0.948330</td>\n",
       "    </tr>\n",
       "    <tr>\n",
       "      <th>min</th>\n",
       "      <td>223.346793</td>\n",
       "      <td>997.058347</td>\n",
       "      <td>996.995651</td>\n",
       "    </tr>\n",
       "    <tr>\n",
       "      <th>25%</th>\n",
       "      <td>433.025732</td>\n",
       "      <td>999.332068</td>\n",
       "      <td>999.316106</td>\n",
       "    </tr>\n",
       "    <tr>\n",
       "      <th>50%</th>\n",
       "      <td>502.382117</td>\n",
       "      <td>1000.009915</td>\n",
       "      <td>1000.002243</td>\n",
       "    </tr>\n",
       "    <tr>\n",
       "      <th>75%</th>\n",
       "      <td>564.921588</td>\n",
       "      <td>1000.637580</td>\n",
       "      <td>1000.645380</td>\n",
       "    </tr>\n",
       "    <tr>\n",
       "      <th>max</th>\n",
       "      <td>774.407854</td>\n",
       "      <td>1003.207934</td>\n",
       "      <td>1002.666308</td>\n",
       "    </tr>\n",
       "  </tbody>\n",
       "</table>\n",
       "</div>"
      ],
      "text/plain": [
       "             price     feature1     feature2\n",
       "count  1000.000000  1000.000000  1000.000000\n",
       "mean    498.673029  1000.014171   999.979847\n",
       "std      93.785431     0.974018     0.948330\n",
       "min     223.346793   997.058347   996.995651\n",
       "25%     433.025732   999.332068   999.316106\n",
       "50%     502.382117  1000.009915  1000.002243\n",
       "75%     564.921588  1000.637580  1000.645380\n",
       "max     774.407854  1003.207934  1002.666308"
      ]
     },
     "execution_count": 4,
     "metadata": {},
     "output_type": "execute_result"
    }
   ],
   "source": [
    "df.describe()"
   ]
  },
  {
   "cell_type": "code",
   "execution_count": 5,
   "metadata": {},
   "outputs": [
    {
     "data": {
      "text/html": [
       "<div>\n",
       "<style scoped>\n",
       "    .dataframe tbody tr th:only-of-type {\n",
       "        vertical-align: middle;\n",
       "    }\n",
       "\n",
       "    .dataframe tbody tr th {\n",
       "        vertical-align: top;\n",
       "    }\n",
       "\n",
       "    .dataframe thead th {\n",
       "        text-align: right;\n",
       "    }\n",
       "</style>\n",
       "<table border=\"1\" class=\"dataframe\">\n",
       "  <thead>\n",
       "    <tr style=\"text-align: right;\">\n",
       "      <th></th>\n",
       "      <th>price</th>\n",
       "      <th>feature1</th>\n",
       "      <th>feature2</th>\n",
       "    </tr>\n",
       "  </thead>\n",
       "  <tbody>\n",
       "    <tr>\n",
       "      <th>count</th>\n",
       "      <td>1000.000000</td>\n",
       "      <td>1000.000000</td>\n",
       "      <td>1000.000000</td>\n",
       "    </tr>\n",
       "    <tr>\n",
       "      <th>mean</th>\n",
       "      <td>498.673029</td>\n",
       "      <td>1000.014171</td>\n",
       "      <td>999.979847</td>\n",
       "    </tr>\n",
       "    <tr>\n",
       "      <th>std</th>\n",
       "      <td>93.785431</td>\n",
       "      <td>0.974018</td>\n",
       "      <td>0.948330</td>\n",
       "    </tr>\n",
       "    <tr>\n",
       "      <th>min</th>\n",
       "      <td>223.346793</td>\n",
       "      <td>997.058347</td>\n",
       "      <td>996.995651</td>\n",
       "    </tr>\n",
       "    <tr>\n",
       "      <th>25%</th>\n",
       "      <td>433.025732</td>\n",
       "      <td>999.332068</td>\n",
       "      <td>999.316106</td>\n",
       "    </tr>\n",
       "    <tr>\n",
       "      <th>50%</th>\n",
       "      <td>502.382117</td>\n",
       "      <td>1000.009915</td>\n",
       "      <td>1000.002243</td>\n",
       "    </tr>\n",
       "    <tr>\n",
       "      <th>75%</th>\n",
       "      <td>564.921588</td>\n",
       "      <td>1000.637580</td>\n",
       "      <td>1000.645380</td>\n",
       "    </tr>\n",
       "    <tr>\n",
       "      <th>max</th>\n",
       "      <td>774.407854</td>\n",
       "      <td>1003.207934</td>\n",
       "      <td>1002.666308</td>\n",
       "    </tr>\n",
       "  </tbody>\n",
       "</table>\n",
       "</div>"
      ],
      "text/plain": [
       "             price     feature1     feature2\n",
       "count  1000.000000  1000.000000  1000.000000\n",
       "mean    498.673029  1000.014171   999.979847\n",
       "std      93.785431     0.974018     0.948330\n",
       "min     223.346793   997.058347   996.995651\n",
       "25%     433.025732   999.332068   999.316106\n",
       "50%     502.382117  1000.009915  1000.002243\n",
       "75%     564.921588  1000.637580  1000.645380\n",
       "max     774.407854  1003.207934  1002.666308"
      ]
     },
     "execution_count": 5,
     "metadata": {},
     "output_type": "execute_result"
    }
   ],
   "source": [
    "df.describe(include='all')"
   ]
  },
  {
   "cell_type": "code",
   "execution_count": 6,
   "metadata": {},
   "outputs": [
    {
     "name": "stdout",
     "output_type": "stream",
     "text": [
      "<class 'pandas.core.frame.DataFrame'>\n",
      "RangeIndex: 1000 entries, 0 to 999\n",
      "Data columns (total 3 columns):\n",
      " #   Column    Non-Null Count  Dtype  \n",
      "---  ------    --------------  -----  \n",
      " 0   price     1000 non-null   float64\n",
      " 1   feature1  1000 non-null   float64\n",
      " 2   feature2  1000 non-null   float64\n",
      "dtypes: float64(3)\n",
      "memory usage: 23.6 KB\n"
     ]
    }
   ],
   "source": [
    "df.info()"
   ]
  },
  {
   "cell_type": "code",
   "execution_count": 7,
   "metadata": {},
   "outputs": [
    {
     "data": {
      "text/plain": [
       "price       0\n",
       "feature1    0\n",
       "feature2    0\n",
       "dtype: int64"
      ]
     },
     "execution_count": 7,
     "metadata": {},
     "output_type": "execute_result"
    }
   ],
   "source": [
    "df.isna().sum()"
   ]
  },
  {
   "cell_type": "code",
   "execution_count": 8,
   "metadata": {},
   "outputs": [
    {
     "data": {
      "text/html": [
       "<div>\n",
       "<style scoped>\n",
       "    .dataframe tbody tr th:only-of-type {\n",
       "        vertical-align: middle;\n",
       "    }\n",
       "\n",
       "    .dataframe tbody tr th {\n",
       "        vertical-align: top;\n",
       "    }\n",
       "\n",
       "    .dataframe thead th {\n",
       "        text-align: right;\n",
       "    }\n",
       "</style>\n",
       "<table border=\"1\" class=\"dataframe\">\n",
       "  <thead>\n",
       "    <tr style=\"text-align: right;\">\n",
       "      <th></th>\n",
       "      <th>price</th>\n",
       "      <th>feature1</th>\n",
       "      <th>feature2</th>\n",
       "    </tr>\n",
       "  </thead>\n",
       "  <tbody>\n",
       "    <tr>\n",
       "      <th>0</th>\n",
       "      <td>461.527929</td>\n",
       "      <td>999.787558</td>\n",
       "      <td>999.766096</td>\n",
       "    </tr>\n",
       "    <tr>\n",
       "      <th>1</th>\n",
       "      <td>548.130011</td>\n",
       "      <td>998.861615</td>\n",
       "      <td>1001.042403</td>\n",
       "    </tr>\n",
       "    <tr>\n",
       "      <th>2</th>\n",
       "      <td>410.297162</td>\n",
       "      <td>1000.070267</td>\n",
       "      <td>998.844015</td>\n",
       "    </tr>\n",
       "    <tr>\n",
       "      <th>3</th>\n",
       "      <td>540.382220</td>\n",
       "      <td>999.952251</td>\n",
       "      <td>1000.440940</td>\n",
       "    </tr>\n",
       "    <tr>\n",
       "      <th>4</th>\n",
       "      <td>546.024553</td>\n",
       "      <td>1000.446011</td>\n",
       "      <td>1000.338531</td>\n",
       "    </tr>\n",
       "    <tr>\n",
       "      <th>5</th>\n",
       "      <td>542.983672</td>\n",
       "      <td>999.693184</td>\n",
       "      <td>1000.628006</td>\n",
       "    </tr>\n",
       "    <tr>\n",
       "      <th>6</th>\n",
       "      <td>555.485664</td>\n",
       "      <td>1000.275855</td>\n",
       "      <td>1000.444949</td>\n",
       "    </tr>\n",
       "    <tr>\n",
       "      <th>7</th>\n",
       "      <td>417.569725</td>\n",
       "      <td>1000.414205</td>\n",
       "      <td>998.878486</td>\n",
       "    </tr>\n",
       "    <tr>\n",
       "      <th>8</th>\n",
       "      <td>373.146531</td>\n",
       "      <td>1000.016606</td>\n",
       "      <td>998.475997</td>\n",
       "    </tr>\n",
       "    <tr>\n",
       "      <th>9</th>\n",
       "      <td>633.350292</td>\n",
       "      <td>999.905646</td>\n",
       "      <td>1001.594481</td>\n",
       "    </tr>\n",
       "  </tbody>\n",
       "</table>\n",
       "</div>"
      ],
      "text/plain": [
       "        price     feature1     feature2\n",
       "0  461.527929   999.787558   999.766096\n",
       "1  548.130011   998.861615  1001.042403\n",
       "2  410.297162  1000.070267   998.844015\n",
       "3  540.382220   999.952251  1000.440940\n",
       "4  546.024553  1000.446011  1000.338531\n",
       "5  542.983672   999.693184  1000.628006\n",
       "6  555.485664  1000.275855  1000.444949\n",
       "7  417.569725  1000.414205   998.878486\n",
       "8  373.146531  1000.016606   998.475997\n",
       "9  633.350292   999.905646  1001.594481"
      ]
     },
     "execution_count": 8,
     "metadata": {},
     "output_type": "execute_result"
    }
   ],
   "source": [
    "df.head()"
   ]
  },
  {
   "cell_type": "markdown",
   "metadata": {},
   "source": [
    "### Explore the data\n",
    "\n",
    "Let's take a quick look, we should see strong correlation between the features and the \"price\" of this made up product."
   ]
  },
  {
   "cell_type": "code",
   "execution_count": 9,
   "metadata": {},
   "outputs": [],
   "source": [
    "import seaborn as sns\n",
    "import matplotlib.pyplot as plt"
   ]
  },
  {
   "cell_type": "code",
   "execution_count": 10,
   "metadata": {},
   "outputs": [
    {
     "name": "stderr",
     "output_type": "stream",
     "text": [
      "C:\\Users\\Salma\\anaconda3\\envs\\deeplearning\\Lib\\site-packages\\seaborn\\axisgrid.py:123: UserWarning: The figure layout has changed to tight\n",
      "  self._figure.tight_layout(*args, **kwargs)\n"
     ]
    },
    {
     "data": {
      "text/plain": [
       "<seaborn.axisgrid.PairGrid at 0x1c59d201290>"
      ]
     },
     "execution_count": 10,
     "metadata": {},
     "output_type": "execute_result"
    },
    {
     "data": {
      "image/png": "[encoded data removed]",
      "text/plain": [
       "<Figure size 750x750 with 12 Axes>"
      ]
     },
     "metadata": {},
     "output_type": "display_data"
    }
   ],
   "source": [
    "sns.pairplot(df)"
   ]
  },
  {
   "cell_type": "markdown",
   "metadata": {},
   "source": [
    "Feel free to visualize more, but this data is fake, so we will focus on feature engineering and exploratory data analysis later on in the course in much more detail!"
   ]
  },
  {
   "cell_type": "markdown",
   "metadata": {},
   "source": [
    "### Test/Train Split"
   ]
  },
  {
   "cell_type": "code",
   "execution_count": 11,
   "metadata": {},
   "outputs": [],
   "source": [
    "from sklearn.model_selection import train_test_split"
   ]
  },
  {
   "cell_type": "code",
   "execution_count": 12,
   "metadata": {},
   "outputs": [],
   "source": [
    "# Convert Pandas to Numpy for Keras\n",
    "\n",
    "# Features\n",
    "X = df[['feature1','feature2']].values\n",
    "\n",
    "# Label\n",
    "y = df['price'].values\n",
    "\n",
    "# Split\n",
    "X_train, X_test, y_train, y_test = train_test_split(X,y,test_size=0.3,random_state=42)"
   ]
  },
  {
   "cell_type": "code",
   "execution_count": 13,
   "metadata": {},
   "outputs": [
    {
     "data": {
      "text/plain": [
       "(700, 2)"
      ]
     },
     "execution_count": 13,
     "metadata": {},
     "output_type": "execute_result"
    }
   ],
   "source": [
    "X_train.shape"
   ]
  },
  {
   "cell_type": "code",
   "execution_count": 14,
   "metadata": {},
   "outputs": [
    {
     "data": {
      "text/plain": [
       "(300, 2)"
      ]
     },
     "execution_count": 14,
     "metadata": {},
     "output_type": "execute_result"
    }
   ],
   "source": [
    "X_test.shape"
   ]
  },
  {
   "cell_type": "code",
   "execution_count": 15,
   "metadata": {},
   "outputs": [
    {
     "data": {
      "text/plain": [
       "(700,)"
      ]
     },
     "execution_count": 15,
     "metadata": {},
     "output_type": "execute_result"
    }
   ],
   "source": [
    "y_train.shape"
   ]
  },
  {
   "cell_type": "code",
   "execution_count": 14,
   "metadata": {},
   "outputs": [
    {
     "data": {
      "text/plain": [
       "(300,)"
      ]
     },
     "execution_count": 14,
     "metadata": {},
     "output_type": "execute_result"
    }
   ],
   "source": [
    "y_test.shape"
   ]
  },
  {
   "cell_type": "markdown",
   "metadata": {},
   "source": [
    "## Normalizing/Scaling the Data\n",
    "\n",
    "We scale the feature data.\n",
    "\n",
    "[Why we don't need to scale the label](https://stats.stackexchange.com/questions/111467/is-it-necessary-to-scale-the-target-value-in-addition-to-scaling-features-for-re)"
   ]
  },
  {
   "cell_type": "code",
   "execution_count": 16,
   "metadata": {},
   "outputs": [],
   "source": [
    "from sklearn.preprocessing import MinMaxScaler"
   ]
  },
  {
   "cell_type": "code",
   "execution_count": 1,
   "metadata": {},
   "outputs": [],
   "source": [
    "#help(MinMaxScaler)"
   ]
  },
  {
   "cell_type": "code",
   "execution_count": 17,
   "metadata": {},
   "outputs": [],
   "source": [
    "scaler = MinMaxScaler()"
   ]
  },
  {
   "cell_type": "code",
   "execution_count": 18,
   "metadata": {},
   "outputs": [],
   "source": [
    "# Notice to prevent data leakage from the test set, we only fit our scaler to the training set"
   ]
  },
  {
   "cell_type": "code",
   "execution_count": 18,
   "metadata": {},
   "outputs": [
    {
     "data": {
      "text/html": [
       "<style>#sk-container-id-1 {color: black;}#sk-container-id-1 pre{padding: 0;}#sk-container-id-1 div.sk-toggleable {background-color: white;}#sk-container-id-1 label.sk-toggleable__label {cursor: pointer;display: block;width: 100%;margin-bottom: 0;padding: 0.3em;box-sizing: border-box;text-align: center;}#sk-container-id-1 label.sk-toggleable__label-arrow:before {content: \"▸\";float: left;margin-right: 0.25em;color: #696969;}#sk-container-id-1 label.sk-toggleable__label-arrow:hover:before {color: black;}#sk-container-id-1 div.sk-estimator:hover label.sk-toggleable__label-arrow:before {color: black;}#sk-container-id-1 div.sk-toggleable__content {max-height: 0;max-width: 0;overflow: hidden;text-align: left;background-color: #f0f8ff;}#sk-container-id-1 div.sk-toggleable__content pre {margin: 0.2em;color: black;border-radius: 0.25em;background-color: #f0f8ff;}#sk-container-id-1 input.sk-toggleable__control:checked~div.sk-toggleable__content {max-height: 200px;max-width: 100%;overflow: auto;}#sk-container-id-1 input.sk-toggleable__control:checked~label.sk-toggleable__label-arrow:before {content: \"▾\";}#sk-container-id-1 div.sk-estimator input.sk-toggleable__control:checked~label.sk-toggleable__label {background-color: #d4ebff;}#sk-container-id-1 div.sk-label input.sk-toggleable__control:checked~label.sk-toggleable__label {background-color: #d4ebff;}#sk-container-id-1 input.sk-hidden--visually {border: 0;clip: rect(1px 1px 1px 1px);clip: rect(1px, 1px, 1px, 1px);height: 1px;margin: -1px;overflow: hidden;padding: 0;position: absolute;width: 1px;}#sk-container-id-1 div.sk-estimator {font-family: monospace;background-color: #f0f8ff;border: 1px dotted black;border-radius: 0.25em;box-sizing: border-box;margin-bottom: 0.5em;}#sk-container-id-1 div.sk-estimator:hover {background-color: #d4ebff;}#sk-container-id-1 div.sk-parallel-item::after {content: \"\";width: 100%;border-bottom: 1px solid gray;flex-grow: 1;}#sk-container-id-1 div.sk-label:hover label.sk-toggleable__label {background-color: #d4ebff;}#sk-container-id-1 div.sk-serial::before {content: \"\";position: absolute;border-left: 1px solid gray;box-sizing: border-box;top: 0;bottom: 0;left: 50%;z-index: 0;}#sk-container-id-1 div.sk-serial {display: flex;flex-direction: column;align-items: center;background-color: white;padding-right: 0.2em;padding-left: 0.2em;position: relative;}#sk-container-id-1 div.sk-item {position: relative;z-index: 1;}#sk-container-id-1 div.sk-parallel {display: flex;align-items: stretch;justify-content: center;background-color: white;position: relative;}#sk-container-id-1 div.sk-item::before, #sk-container-id-1 div.sk-parallel-item::before {content: \"\";position: absolute;border-left: 1px solid gray;box-sizing: border-box;top: 0;bottom: 0;left: 50%;z-index: -1;}#sk-container-id-1 div.sk-parallel-item {display: flex;flex-direction: column;z-index: 1;position: relative;background-color: white;}#sk-container-id-1 div.sk-parallel-item:first-child::after {align-self: flex-end;width: 50%;}#sk-container-id-1 div.sk-parallel-item:last-child::after {align-self: flex-start;width: 50%;}#sk-container-id-1 div.sk-parallel-item:only-child::after {width: 0;}#sk-container-id-1 div.sk-dashed-wrapped {border: 1px dashed gray;margin: 0 0.4em 0.5em 0.4em;box-sizing: border-box;padding-bottom: 0.4em;background-color: white;}#sk-container-id-1 div.sk-label label {font-family: monospace;font-weight: bold;display: inline-block;line-height: 1.2em;}#sk-container-id-1 div.sk-label-container {text-align: center;}#sk-container-id-1 div.sk-container {/* jupyter's `normalize.less` sets `[hidden] { display: none; }` but bootstrap.min.css set `[hidden] { display: none !important; }` so we also need the `!important` here to be able to override the default hidden behavior on the sphinx rendered scikit-learn.org. See: https://github.com/scikit-learn/scikit-learn/issues/21755 */display: inline-block !important;position: relative;}#sk-container-id-1 div.sk-text-repr-fallback {display: none;}</style><div id=\"sk-container-id-1\" class=\"sk-top-container\"><div class=\"sk-text-repr-fallback\"><pre>MinMaxScaler()</pre><b>In a Jupyter environment, please rerun this cell to show the HTML representation or trust the notebook. <br />On GitHub, the HTML representation is unable to render, please try loading this page with nbviewer.org.</b></div><div class=\"sk-container\" hidden><div class=\"sk-item\"><div class=\"sk-estimator sk-toggleable\"><input class=\"sk-toggleable__control sk-hidden--visually\" id=\"sk-estimator-id-1\" type=\"checkbox\" checked><label for=\"sk-estimator-id-1\" class=\"sk-toggleable__label sk-toggleable__label-arrow\">MinMaxScaler</label><div class=\"sk-toggleable__content\"><pre>MinMaxScaler()</pre></div></div></div></div></div>"
      ],
      "text/plain": [
       "MinMaxScaler()"
      ]
     },
     "execution_count": 18,
     "metadata": {},
     "output_type": "execute_result"
    }
   ],
   "source": [
    "scaler.fit(X_train)"
   ]
  },
  {
   "cell_type": "code",
   "execution_count": 19,
   "metadata": {},
   "outputs": [],
   "source": [
    "X_train = scaler.transform(X_train)\n",
    "X_test = scaler.transform(X_test)"
   ]
  },
  {
   "cell_type": "markdown",
   "metadata": {},
   "source": [
    "# TensorFlow 2.0 Syntax\n",
    "\n",
    "\n",
    "## Import Options\n",
    "\n",
    "There are several ways you can import Keras from Tensorflow (this is hugely a personal style choice, please use any import methods you prefer). We will use the method shown in the **official TF documentation**."
   ]
  },
  {
   "cell_type": "code",
   "execution_count": 20,
   "metadata": {},
   "outputs": [],
   "source": [
    "import tensorflow as tf"
   ]
  },
  {
   "cell_type": "code",
   "execution_count": 21,
   "metadata": {},
   "outputs": [],
   "source": [
    "from tensorflow.keras.models import Sequential"
   ]
  },
  {
   "cell_type": "code",
   "execution_count": 2,
   "metadata": {},
   "outputs": [],
   "source": [
    "#help(Sequential)"
   ]
  },
  {
   "cell_type": "markdown",
   "metadata": {},
   "source": [
    "## Creating a Model\n",
    "\n",
    "There are two ways to create models through the TF 2 Keras API, either pass in a list of layers all at once, or add them one by one.\n",
    "\n",
    "Let's show both methods (its up to you to choose which method you prefer)."
   ]
  },
  {
   "cell_type": "code",
   "execution_count": 22,
   "metadata": {},
   "outputs": [],
   "source": [
    "from tensorflow.keras.models import Sequential\n",
    "from tensorflow.keras.layers import Dense, Activation"
   ]
  },
  {
   "cell_type": "markdown",
   "metadata": {},
   "source": [
    "### Model - as a list of layers"
   ]
  },
  {
   "cell_type": "code",
   "execution_count": 25,
   "metadata": {},
   "outputs": [],
   "source": [
    "model = Sequential([\n",
    "    Dense(units=2),\n",
    "    Dense(units=2),\n",
    "    Dense(units=2)\n",
    "])"
   ]
  },
  {
   "cell_type": "markdown",
   "metadata": {},
   "source": [
    "### Model - adding in layers one by one"
   ]
  },
  {
   "cell_type": "code",
   "execution_count": 26,
   "metadata": {},
   "outputs": [],
   "source": [
    "model = Sequential()\n",
    "\n",
    "model.add(Dense(2))\n",
    "model.add(Dense(2))\n",
    "model.add(Dense(2))"
   ]
  },
  {
   "cell_type": "markdown",
   "metadata": {},
   "source": [
    "Let's go ahead and build a simple model and then compile it by defining our solver"
   ]
  },
  {
   "cell_type": "code",
   "execution_count": 23,
   "metadata": {},
   "outputs": [],
   "source": [
    "model = Sequential()\n",
    "\n",
    "model.add(Dense(4,activation='relu'))\n",
    "model.add(Dense(4,activation='relu'))\n",
    "model.add(Dense(4,activation='relu'))\n",
    "\n",
    "# Final output node for prediction\n",
    "model.add(Dense(1))\n",
    "\n",
    "model.compile(optimizer='rmsprop',loss='mse')"
   ]
  },
  {
   "cell_type": "markdown",
   "metadata": {},
   "source": [
    "### Choosing an optimizer and loss\n",
    "\n",
    "Keep in mind what kind of problem you are trying to solve:\n",
    "\n",
    "    # For a multi-class classification problem\n",
    "    model.compile(optimizer='rmsprop',\n",
    "                  loss='categorical_crossentropy',\n",
    "                  metrics=['accuracy'])\n",
    "\n",
    "    # For a binary classification problem\n",
    "    model.compile(optimizer='rmsprop',\n",
    "                  loss='binary_crossentropy',\n",
    "                  metrics=['accuracy'])\n",
    "\n",
    "    # For a mean squared error regression problem\n",
    "    model.compile(optimizer='rmsprop',\n",
    "                  loss='mse')"
   ]
  },
  {
   "cell_type": "markdown",
   "metadata": {},
   "source": [
    "# Training\n",
    "\n",
    "Below are some common definitions that are necessary to know and understand to correctly utilize Keras:\n",
    "\n",
    "* Sample: one element of a dataset.\n",
    "    * Example: one image is a sample in a convolutional network\n",
    "    * Example: one audio file is a sample for a speech recognition model\n",
    "* Batch: a set of N samples. The samples in a batch are processed independently, in parallel. If training, a batch results in only one update to the model.A batch generally approximates the distribution of the input data better than a single input. The larger the batch, the better the approximation; however, it is also true that the batch will take longer to process and will still result in only one update. For inference (evaluate/predict), it is recommended to pick a batch size that is as large as you can afford without going out of memory (since larger batches will usually result in faster evaluation/prediction).\n",
    "* Epoch: an arbitrary cutoff, generally defined as \"one pass over the entire dataset\", used to separate training into distinct phases, which is useful for logging and periodic evaluation.\n",
    "* When using validation_data or validation_split with the fit method of Keras models, evaluation will be run at the end of every epoch.\n",
    "* Within Keras, there is the ability to add callbacks specifically designed to be run at the end of an epoch. Examples of these are learning rate changes and model checkpointing (saving)."
   ]
  },
  {
   "cell_type": "code",
   "execution_count": 24,
   "metadata": {},
   "outputs": [
    {
     "name": "stdout",
     "output_type": "stream",
     "text": [
      "Epoch 1/250\n",
      "22/22 [==============================] - 1s 4ms/step - loss: 256450.6562\n",
      "Epoch 2/250\n",
      "22/22 [==============================] - 0s 3ms/step - loss: 256336.3438\n",
      "Epoch 3/250\n",
      "22/22 [==============================] - 0s 4ms/step - loss: 256221.0938\n",
      "Epoch 4/250\n",
      "22/22 [==============================] - 0s 3ms/step - loss: 256095.5156\n",
      "Epoch 5/250\n",
      "22/22 [==============================] - 0s 3ms/step - loss: 255958.8750\n",
      "Epoch 6/250\n",
      "22/22 [==============================] - 0s 3ms/step - loss: 255809.8438\n",
      "Epoch 7/250\n",
      "22/22 [==============================] - 0s 3ms/step - loss: 255648.0000\n",
      "Epoch 8/250\n",
      "22/22 [==============================] - 0s 3ms/step - loss: 255472.7812\n",
      "Epoch 9/250\n",
      "22/22 [==============================] - 0s 4ms/step - loss: 255283.9844\n",
      "Epoch 10/250\n",
      "22/22 [==============================] - 0s 4ms/step - loss: 255078.8750\n",
      "Epoch 11/250\n",
      "22/22 [==============================] - 0s 4ms/step - loss: 254857.4844\n",
      "Epoch 12/250\n",
      "22/22 [==============================] - 0s 4ms/step - loss: 254620.9219\n",
      "Epoch 13/250\n",
      "22/22 [==============================] - 0s 3ms/step - loss: 254366.5156\n",
      "Epoch 14/250\n",
      "22/22 [==============================] - 0s 4ms/step - loss: 254091.2656\n",
      "Epoch 15/250\n",
      "22/22 [==============================] - 0s 3ms/step - loss: 253797.5469\n",
      "Epoch 16/250\n",
      "22/22 [==============================] - 0s 4ms/step - loss: 253482.7812\n",
      "Epoch 17/250\n",
      "22/22 [==============================] - 0s 3ms/step - loss: 253147.0625\n",
      "Epoch 18/250\n",
      "22/22 [==============================] - 0s 3ms/step - loss: 252787.3594\n",
      "Epoch 19/250\n",
      "22/22 [==============================] - 0s 5ms/step - loss: 252405.9219\n",
      "Epoch 20/250\n",
      "22/22 [==============================] - 0s 4ms/step - loss: 251999.9062\n",
      "Epoch 21/250\n",
      "22/22 [==============================] - 0s 3ms/step - loss: 251568.0938\n",
      "Epoch 22/250\n",
      "22/22 [==============================] - 0s 3ms/step - loss: 251109.2500\n",
      "Epoch 23/250\n",
      "22/22 [==============================] - 0s 4ms/step - loss: 250623.9375\n",
      "Epoch 24/250\n",
      "22/22 [==============================] - 0s 4ms/step - loss: 250111.0156\n",
      "Epoch 25/250\n",
      "22/22 [==============================] - 0s 3ms/step - loss: 249566.1875\n",
      "Epoch 26/250\n",
      "22/22 [==============================] - 0s 3ms/step - loss: 248987.4219\n",
      "Epoch 27/250\n",
      "22/22 [==============================] - 0s 3ms/step - loss: 248381.1250\n",
      "Epoch 28/250\n",
      "22/22 [==============================] - 0s 4ms/step - loss: 247738.1719\n",
      "Epoch 29/250\n",
      "22/22 [==============================] - 0s 3ms/step - loss: 247065.4375\n",
      "Epoch 30/250\n",
      "22/22 [==============================] - 0s 4ms/step - loss: 246357.1406\n",
      "Epoch 31/250\n",
      "22/22 [==============================] - 0s 4ms/step - loss: 245607.4688\n",
      "Epoch 32/250\n",
      "22/22 [==============================] - 0s 3ms/step - loss: 244824.5781\n",
      "Epoch 33/250\n",
      "22/22 [==============================] - 0s 4ms/step - loss: 243998.6094\n",
      "Epoch 34/250\n",
      "22/22 [==============================] - 0s 3ms/step - loss: 243133.3281\n",
      "Epoch 35/250\n",
      "22/22 [==============================] - 0s 3ms/step - loss: 242231.2188\n",
      "Epoch 36/250\n",
      "22/22 [==============================] - 0s 4ms/step - loss: 241285.4219\n",
      "Epoch 37/250\n",
      "22/22 [==============================] - 0s 3ms/step - loss: 240296.6406\n",
      "Epoch 38/250\n",
      "22/22 [==============================] - 0s 2ms/step - loss: 239266.4531\n",
      "Epoch 39/250\n",
      "22/22 [==============================] - 0s 2ms/step - loss: 238184.8438\n",
      "Epoch 40/250\n",
      "22/22 [==============================] - 0s 2ms/step - loss: 237058.2812\n",
      "Epoch 41/250\n",
      "22/22 [==============================] - 0s 2ms/step - loss: 235883.0469\n",
      "Epoch 42/250\n",
      "22/22 [==============================] - 0s 2ms/step - loss: 234661.3750\n",
      "Epoch 43/250\n",
      "22/22 [==============================] - 0s 2ms/step - loss: 233385.5312\n",
      "Epoch 44/250\n",
      "22/22 [==============================] - 0s 2ms/step - loss: 232062.7500\n",
      "Epoch 45/250\n",
      "22/22 [==============================] - 0s 3ms/step - loss: 230686.9062\n",
      "Epoch 46/250\n",
      "22/22 [==============================] - 0s 4ms/step - loss: 229255.1250\n",
      "Epoch 47/250\n",
      "22/22 [==============================] - 0s 4ms/step - loss: 227764.1875\n",
      "Epoch 48/250\n",
      "22/22 [==============================] - 0s 3ms/step - loss: 226221.2500\n",
      "Epoch 49/250\n",
      "22/22 [==============================] - 0s 3ms/step - loss: 224621.3750\n",
      "Epoch 50/250\n",
      "22/22 [==============================] - 0s 3ms/step - loss: 222969.2344\n",
      "Epoch 51/250\n",
      "22/22 [==============================] - 0s 4ms/step - loss: 221258.7188\n",
      "Epoch 52/250\n",
      "22/22 [==============================] - 0s 4ms/step - loss: 219490.7656\n",
      "Epoch 53/250\n",
      "22/22 [==============================] - 0s 3ms/step - loss: 217650.6719\n",
      "Epoch 54/250\n",
      "22/22 [==============================] - 0s 3ms/step - loss: 215749.0469\n",
      "Epoch 55/250\n",
      "22/22 [==============================] - 0s 4ms/step - loss: 213798.1094\n",
      "Epoch 56/250\n",
      "22/22 [==============================] - 0s 3ms/step - loss: 211772.2031\n",
      "Epoch 57/250\n",
      "22/22 [==============================] - 0s 2ms/step - loss: 209689.5781\n",
      "Epoch 58/250\n",
      "22/22 [==============================] - 0s 2ms/step - loss: 207545.9688\n",
      "Epoch 59/250\n",
      "22/22 [==============================] - 0s 3ms/step - loss: 205332.0625\n",
      "Epoch 60/250\n",
      "22/22 [==============================] - 0s 3ms/step - loss: 203055.2656\n",
      "Epoch 61/250\n",
      "22/22 [==============================] - 0s 3ms/step - loss: 200715.4688\n",
      "Epoch 62/250\n",
      "22/22 [==============================] - 0s 3ms/step - loss: 198318.0781\n",
      "Epoch 63/250\n",
      "22/22 [==============================] - 0s 3ms/step - loss: 195842.1250\n",
      "Epoch 64/250\n",
      "22/22 [==============================] - 0s 3ms/step - loss: 193290.7031\n",
      "Epoch 65/250\n",
      "22/22 [==============================] - 0s 3ms/step - loss: 190691.0469\n",
      "Epoch 66/250\n",
      "22/22 [==============================] - 0s 3ms/step - loss: 188027.6094\n",
      "Epoch 67/250\n",
      "22/22 [==============================] - 0s 3ms/step - loss: 185281.7031\n",
      "Epoch 68/250\n",
      "22/22 [==============================] - 0s 2ms/step - loss: 182473.4375\n",
      "Epoch 69/250\n",
      "22/22 [==============================] - 0s 2ms/step - loss: 179591.5781\n",
      "Epoch 70/250\n",
      "22/22 [==============================] - 0s 2ms/step - loss: 176662.2344\n",
      "Epoch 71/250\n",
      "22/22 [==============================] - 0s 2ms/step - loss: 173673.4688\n",
      "Epoch 72/250\n",
      "22/22 [==============================] - 0s 2ms/step - loss: 170609.6250\n",
      "Epoch 73/250\n",
      "22/22 [==============================] - 0s 3ms/step - loss: 167461.8906\n",
      "Epoch 74/250\n",
      "22/22 [==============================] - 0s 3ms/step - loss: 164271.8125\n",
      "Epoch 75/250\n",
      "22/22 [==============================] - 0s 2ms/step - loss: 161011.5312\n",
      "Epoch 76/250\n",
      "22/22 [==============================] - 0s 3ms/step - loss: 157680.5156\n",
      "Epoch 77/250\n",
      "22/22 [==============================] - 0s 4ms/step - loss: 154313.8594\n",
      "Epoch 78/250\n",
      "22/22 [==============================] - 0s 3ms/step - loss: 150875.2188\n",
      "Epoch 79/250\n",
      "22/22 [==============================] - 0s 3ms/step - loss: 147395.5625\n",
      "Epoch 80/250\n",
      "22/22 [==============================] - 0s 3ms/step - loss: 143844.4531\n",
      "Epoch 81/250\n",
      "22/22 [==============================] - 0s 3ms/step - loss: 140235.6875\n",
      "Epoch 82/250\n",
      "22/22 [==============================] - 0s 3ms/step - loss: 136556.0000\n",
      "Epoch 83/250\n",
      "22/22 [==============================] - 0s 3ms/step - loss: 132862.8125\n",
      "Epoch 84/250\n",
      "22/22 [==============================] - 0s 2ms/step - loss: 129105.7500\n",
      "Epoch 85/250\n",
      "22/22 [==============================] - 0s 2ms/step - loss: 125324.0703\n",
      "Epoch 86/250\n",
      "22/22 [==============================] - 0s 2ms/step - loss: 121482.6641\n",
      "Epoch 87/250\n",
      "22/22 [==============================] - 0s 2ms/step - loss: 117606.2031\n",
      "Epoch 88/250\n",
      "22/22 [==============================] - 0s 2ms/step - loss: 113691.4766\n",
      "Epoch 89/250\n",
      "22/22 [==============================] - 0s 2ms/step - loss: 109760.8438\n",
      "Epoch 90/250\n",
      "22/22 [==============================] - 0s 2ms/step - loss: 105778.2266\n",
      "Epoch 91/250\n",
      "22/22 [==============================] - 0s 4ms/step - loss: 101797.9688\n",
      "Epoch 92/250\n",
      "22/22 [==============================] - 0s 3ms/step - loss: 97780.5000\n",
      "Epoch 93/250\n",
      "22/22 [==============================] - 0s 3ms/step - loss: 93754.1406\n",
      "Epoch 94/250\n",
      "22/22 [==============================] - 0s 3ms/step - loss: 89717.4922\n",
      "Epoch 95/250\n",
      "22/22 [==============================] - 0s 2ms/step - loss: 85683.5000\n",
      "Epoch 96/250\n"
     ]
    },
    {
     "name": "stdout",
     "output_type": "stream",
     "text": [
      "22/22 [==============================] - 0s 3ms/step - loss: 81634.0312\n",
      "Epoch 97/250\n",
      "22/22 [==============================] - 0s 3ms/step - loss: 77598.5391\n",
      "Epoch 98/250\n",
      "22/22 [==============================] - 0s 2ms/step - loss: 73592.2188\n",
      "Epoch 99/250\n",
      "22/22 [==============================] - 0s 2ms/step - loss: 69575.5234\n",
      "Epoch 100/250\n",
      "22/22 [==============================] - 0s 2ms/step - loss: 65623.4609\n",
      "Epoch 101/250\n",
      "22/22 [==============================] - 0s 2ms/step - loss: 61666.4180\n",
      "Epoch 102/250\n",
      "22/22 [==============================] - 0s 2ms/step - loss: 57754.5898\n",
      "Epoch 103/250\n",
      "22/22 [==============================] - 0s 2ms/step - loss: 53918.3047\n",
      "Epoch 104/250\n",
      "22/22 [==============================] - 0s 2ms/step - loss: 50133.6289\n",
      "Epoch 105/250\n",
      "22/22 [==============================] - 0s 2ms/step - loss: 46390.9961\n",
      "Epoch 106/250\n",
      "22/22 [==============================] - 0s 2ms/step - loss: 42722.7344\n",
      "Epoch 107/250\n",
      "22/22 [==============================] - 0s 2ms/step - loss: 39153.0898\n",
      "Epoch 108/250\n",
      "22/22 [==============================] - 0s 2ms/step - loss: 35667.6367\n",
      "Epoch 109/250\n",
      "22/22 [==============================] - 0s 2ms/step - loss: 32303.6484\n",
      "Epoch 110/250\n",
      "22/22 [==============================] - 0s 2ms/step - loss: 29040.2422\n",
      "Epoch 111/250\n",
      "22/22 [==============================] - 0s 2ms/step - loss: 25907.2852\n",
      "Epoch 112/250\n",
      "22/22 [==============================] - 0s 2ms/step - loss: 22905.9219\n",
      "Epoch 113/250\n",
      "22/22 [==============================] - 0s 2ms/step - loss: 20059.6895\n",
      "Epoch 114/250\n",
      "22/22 [==============================] - 0s 3ms/step - loss: 17354.3477\n",
      "Epoch 115/250\n",
      "22/22 [==============================] - 0s 3ms/step - loss: 14813.8604\n",
      "Epoch 116/250\n",
      "22/22 [==============================] - 0s 3ms/step - loss: 12492.8711\n",
      "Epoch 117/250\n",
      "22/22 [==============================] - 0s 3ms/step - loss: 10361.0381\n",
      "Epoch 118/250\n",
      "22/22 [==============================] - 0s 3ms/step - loss: 8431.0889\n",
      "Epoch 119/250\n",
      "22/22 [==============================] - 0s 2ms/step - loss: 6721.3477\n",
      "Epoch 120/250\n",
      "22/22 [==============================] - 0s 2ms/step - loss: 5224.1045\n",
      "Epoch 121/250\n",
      "22/22 [==============================] - 0s 2ms/step - loss: 3995.6497\n",
      "Epoch 122/250\n",
      "22/22 [==============================] - 0s 2ms/step - loss: 3017.9570\n",
      "Epoch 123/250\n",
      "22/22 [==============================] - 0s 2ms/step - loss: 2311.7131\n",
      "Epoch 124/250\n",
      "22/22 [==============================] - 0s 2ms/step - loss: 1836.1245\n",
      "Epoch 125/250\n",
      "22/22 [==============================] - 0s 2ms/step - loss: 1607.7292\n",
      "Epoch 126/250\n",
      "22/22 [==============================] - 0s 2ms/step - loss: 1534.8746\n",
      "Epoch 127/250\n",
      "22/22 [==============================] - 0s 2ms/step - loss: 1509.4484\n",
      "Epoch 128/250\n",
      "22/22 [==============================] - 0s 3ms/step - loss: 1488.5902\n",
      "Epoch 129/250\n",
      "22/22 [==============================] - 0s 2ms/step - loss: 1469.5386\n",
      "Epoch 130/250\n",
      "22/22 [==============================] - 0s 2ms/step - loss: 1449.7302\n",
      "Epoch 131/250\n",
      "22/22 [==============================] - 0s 2ms/step - loss: 1430.1720\n",
      "Epoch 132/250\n",
      "22/22 [==============================] - 0s 2ms/step - loss: 1411.0646\n",
      "Epoch 133/250\n",
      "22/22 [==============================] - 0s 3ms/step - loss: 1391.8629\n",
      "Epoch 134/250\n",
      "22/22 [==============================] - 0s 3ms/step - loss: 1375.9531\n",
      "Epoch 135/250\n",
      "22/22 [==============================] - 0s 3ms/step - loss: 1358.0337\n",
      "Epoch 136/250\n",
      "22/22 [==============================] - 0s 3ms/step - loss: 1339.3699\n",
      "Epoch 137/250\n",
      "22/22 [==============================] - 0s 2ms/step - loss: 1321.5028\n",
      "Epoch 138/250\n",
      "22/22 [==============================] - 0s 2ms/step - loss: 1305.5026\n",
      "Epoch 139/250\n",
      "22/22 [==============================] - 0s 2ms/step - loss: 1287.5430\n",
      "Epoch 140/250\n",
      "22/22 [==============================] - 0s 2ms/step - loss: 1270.5873\n",
      "Epoch 141/250\n",
      "22/22 [==============================] - 0s 2ms/step - loss: 1255.3530\n",
      "Epoch 142/250\n",
      "22/22 [==============================] - 0s 2ms/step - loss: 1236.9419\n",
      "Epoch 143/250\n",
      "22/22 [==============================] - 0s 2ms/step - loss: 1222.6736\n",
      "Epoch 144/250\n",
      "22/22 [==============================] - 0s 2ms/step - loss: 1204.3489\n",
      "Epoch 145/250\n",
      "22/22 [==============================] - 0s 2ms/step - loss: 1186.0631\n",
      "Epoch 146/250\n",
      "22/22 [==============================] - 0s 2ms/step - loss: 1169.0265\n",
      "Epoch 147/250\n",
      "22/22 [==============================] - 0s 2ms/step - loss: 1150.6831\n",
      "Epoch 148/250\n",
      "22/22 [==============================] - 0s 2ms/step - loss: 1133.2909\n",
      "Epoch 149/250\n",
      "22/22 [==============================] - 0s 2ms/step - loss: 1117.4895\n",
      "Epoch 150/250\n",
      "22/22 [==============================] - 0s 2ms/step - loss: 1099.6996\n",
      "Epoch 151/250\n",
      "22/22 [==============================] - 0s 2ms/step - loss: 1083.7028\n",
      "Epoch 152/250\n",
      "22/22 [==============================] - 0s 3ms/step - loss: 1065.6714\n",
      "Epoch 153/250\n",
      "22/22 [==============================] - 0s 3ms/step - loss: 1047.4393\n",
      "Epoch 154/250\n",
      "22/22 [==============================] - 0s 3ms/step - loss: 1033.0199\n",
      "Epoch 155/250\n",
      "22/22 [==============================] - 0s 3ms/step - loss: 1015.7377\n",
      "Epoch 156/250\n",
      "22/22 [==============================] - 0s 2ms/step - loss: 998.0492\n",
      "Epoch 157/250\n",
      "22/22 [==============================] - 0s 2ms/step - loss: 980.0947\n",
      "Epoch 158/250\n",
      "22/22 [==============================] - 0s 2ms/step - loss: 964.2747\n",
      "Epoch 159/250\n",
      "22/22 [==============================] - 0s 2ms/step - loss: 947.4932\n",
      "Epoch 160/250\n",
      "22/22 [==============================] - 0s 2ms/step - loss: 930.3912\n",
      "Epoch 161/250\n",
      "22/22 [==============================] - 0s 2ms/step - loss: 914.5671\n",
      "Epoch 162/250\n",
      "22/22 [==============================] - 0s 2ms/step - loss: 897.4587\n",
      "Epoch 163/250\n",
      "22/22 [==============================] - 0s 2ms/step - loss: 881.9465\n",
      "Epoch 164/250\n",
      "22/22 [==============================] - 0s 2ms/step - loss: 864.8052\n",
      "Epoch 165/250\n",
      "22/22 [==============================] - 0s 2ms/step - loss: 847.3303\n",
      "Epoch 166/250\n",
      "22/22 [==============================] - 0s 2ms/step - loss: 830.0023\n",
      "Epoch 167/250\n",
      "22/22 [==============================] - 0s 2ms/step - loss: 815.6547\n",
      "Epoch 168/250\n",
      "22/22 [==============================] - 0s 2ms/step - loss: 798.4550\n",
      "Epoch 169/250\n",
      "22/22 [==============================] - 0s 3ms/step - loss: 784.8282\n",
      "Epoch 170/250\n",
      "22/22 [==============================] - 0s 3ms/step - loss: 769.5158\n",
      "Epoch 171/250\n",
      "22/22 [==============================] - 0s 2ms/step - loss: 752.6105\n",
      "Epoch 172/250\n",
      "22/22 [==============================] - 0s 3ms/step - loss: 738.9726\n",
      "Epoch 173/250\n",
      "22/22 [==============================] - 0s 3ms/step - loss: 722.7476\n",
      "Epoch 174/250\n",
      "22/22 [==============================] - 0s 3ms/step - loss: 709.2859\n",
      "Epoch 175/250\n",
      "22/22 [==============================] - 0s 3ms/step - loss: 694.4396\n",
      "Epoch 176/250\n",
      "22/22 [==============================] - 0s 2ms/step - loss: 678.5334\n",
      "Epoch 177/250\n",
      "22/22 [==============================] - 0s 2ms/step - loss: 666.1672\n",
      "Epoch 178/250\n",
      "22/22 [==============================] - 0s 2ms/step - loss: 651.6178\n",
      "Epoch 179/250\n",
      "22/22 [==============================] - 0s 2ms/step - loss: 640.0141\n",
      "Epoch 180/250\n",
      "22/22 [==============================] - 0s 2ms/step - loss: 626.0649\n",
      "Epoch 181/250\n",
      "22/22 [==============================] - 0s 2ms/step - loss: 613.1290\n",
      "Epoch 182/250\n",
      "22/22 [==============================] - 0s 2ms/step - loss: 595.9128\n",
      "Epoch 183/250\n",
      "22/22 [==============================] - 0s 2ms/step - loss: 582.2181\n",
      "Epoch 184/250\n",
      "22/22 [==============================] - 0s 2ms/step - loss: 567.8790\n",
      "Epoch 185/250\n",
      "22/22 [==============================] - 0s 2ms/step - loss: 555.8399\n",
      "Epoch 186/250\n",
      "22/22 [==============================] - 0s 2ms/step - loss: 542.9518\n",
      "Epoch 187/250\n",
      "22/22 [==============================] - 0s 2ms/step - loss: 529.9690\n",
      "Epoch 188/250\n",
      "22/22 [==============================] - 0s 2ms/step - loss: 517.4572\n",
      "Epoch 189/250\n",
      "22/22 [==============================] - 0s 2ms/step - loss: 505.8808\n",
      "Epoch 190/250\n",
      "22/22 [==============================] - 0s 2ms/step - loss: 492.4431\n",
      "Epoch 191/250\n",
      "22/22 [==============================] - 0s 3ms/step - loss: 482.2654\n",
      "Epoch 192/250\n"
     ]
    },
    {
     "name": "stdout",
     "output_type": "stream",
     "text": [
      "22/22 [==============================] - 0s 3ms/step - loss: 468.7216\n",
      "Epoch 193/250\n",
      "22/22 [==============================] - 0s 3ms/step - loss: 458.2187\n",
      "Epoch 194/250\n",
      "22/22 [==============================] - 0s 3ms/step - loss: 448.1068\n",
      "Epoch 195/250\n",
      "22/22 [==============================] - 0s 3ms/step - loss: 437.9260\n",
      "Epoch 196/250\n",
      "22/22 [==============================] - 0s 2ms/step - loss: 425.6550\n",
      "Epoch 197/250\n",
      "22/22 [==============================] - 0s 2ms/step - loss: 413.8821\n",
      "Epoch 198/250\n",
      "22/22 [==============================] - 0s 2ms/step - loss: 402.4911\n",
      "Epoch 199/250\n",
      "22/22 [==============================] - 0s 2ms/step - loss: 390.8484\n",
      "Epoch 200/250\n",
      "22/22 [==============================] - 0s 2ms/step - loss: 380.0286\n",
      "Epoch 201/250\n",
      "22/22 [==============================] - 0s 2ms/step - loss: 368.1356\n",
      "Epoch 202/250\n",
      "22/22 [==============================] - 0s 3ms/step - loss: 357.6043\n",
      "Epoch 203/250\n",
      "22/22 [==============================] - 0s 2ms/step - loss: 345.6595\n",
      "Epoch 204/250\n",
      "22/22 [==============================] - 0s 2ms/step - loss: 335.2349\n",
      "Epoch 205/250\n",
      "22/22 [==============================] - 0s 1ms/step - loss: 324.6610\n",
      "Epoch 206/250\n",
      "22/22 [==============================] - 0s 1ms/step - loss: 313.9767\n",
      "Epoch 207/250\n",
      "22/22 [==============================] - 0s 2ms/step - loss: 301.5869\n",
      "Epoch 208/250\n",
      "22/22 [==============================] - 0s 2ms/step - loss: 293.4791\n",
      "Epoch 209/250\n",
      "22/22 [==============================] - 0s 2ms/step - loss: 282.4844\n",
      "Epoch 210/250\n",
      "22/22 [==============================] - 0s 1ms/step - loss: 273.5003\n",
      "Epoch 211/250\n",
      "22/22 [==============================] - 0s 2ms/step - loss: 264.6371\n",
      "Epoch 212/250\n",
      "22/22 [==============================] - 0s 2ms/step - loss: 255.5460\n",
      "Epoch 213/250\n",
      "22/22 [==============================] - 0s 2ms/step - loss: 246.9000\n",
      "Epoch 214/250\n",
      "22/22 [==============================] - 0s 3ms/step - loss: 237.3063\n",
      "Epoch 215/250\n",
      "22/22 [==============================] - 0s 2ms/step - loss: 228.4855\n",
      "Epoch 216/250\n",
      "22/22 [==============================] - 0s 2ms/step - loss: 220.2812\n",
      "Epoch 217/250\n",
      "22/22 [==============================] - 0s 2ms/step - loss: 211.4999\n",
      "Epoch 218/250\n",
      "22/22 [==============================] - 0s 2ms/step - loss: 203.5476\n",
      "Epoch 219/250\n",
      "22/22 [==============================] - 0s 3ms/step - loss: 196.2176\n",
      "Epoch 220/250\n",
      "22/22 [==============================] - 0s 2ms/step - loss: 188.6248\n",
      "Epoch 221/250\n",
      "22/22 [==============================] - 0s 2ms/step - loss: 181.5654\n",
      "Epoch 222/250\n",
      "22/22 [==============================] - 0s 3ms/step - loss: 172.9885\n",
      "Epoch 223/250\n",
      "22/22 [==============================] - 0s 2ms/step - loss: 165.9959\n",
      "Epoch 224/250\n",
      "22/22 [==============================] - 0s 2ms/step - loss: 158.5473\n",
      "Epoch 225/250\n",
      "22/22 [==============================] - 0s 2ms/step - loss: 150.4796\n",
      "Epoch 226/250\n",
      "22/22 [==============================] - 0s 2ms/step - loss: 143.6504\n",
      "Epoch 227/250\n",
      "22/22 [==============================] - 0s 2ms/step - loss: 137.5439\n",
      "Epoch 228/250\n",
      "22/22 [==============================] - 0s 2ms/step - loss: 131.1169\n",
      "Epoch 229/250\n",
      "22/22 [==============================] - 0s 2ms/step - loss: 124.3247\n",
      "Epoch 230/250\n",
      "22/22 [==============================] - 0s 2ms/step - loss: 118.1617\n",
      "Epoch 231/250\n",
      "22/22 [==============================] - 0s 2ms/step - loss: 112.8709\n",
      "Epoch 232/250\n",
      "22/22 [==============================] - 0s 3ms/step - loss: 107.3084\n",
      "Epoch 233/250\n",
      "22/22 [==============================] - 0s 2ms/step - loss: 102.5307\n",
      "Epoch 234/250\n",
      "22/22 [==============================] - 0s 2ms/step - loss: 97.8238\n",
      "Epoch 235/250\n",
      "22/22 [==============================] - 0s 3ms/step - loss: 93.2056\n",
      "Epoch 236/250\n",
      "22/22 [==============================] - 0s 2ms/step - loss: 88.5377\n",
      "Epoch 237/250\n",
      "22/22 [==============================] - 0s 2ms/step - loss: 84.5942\n",
      "Epoch 238/250\n",
      "22/22 [==============================] - 0s 2ms/step - loss: 79.4793\n",
      "Epoch 239/250\n",
      "22/22 [==============================] - 0s 2ms/step - loss: 75.9036\n",
      "Epoch 240/250\n",
      "22/22 [==============================] - 0s 2ms/step - loss: 72.3887\n",
      "Epoch 241/250\n",
      "22/22 [==============================] - 0s 2ms/step - loss: 68.3981\n",
      "Epoch 242/250\n",
      "22/22 [==============================] - 0s 2ms/step - loss: 65.6549\n",
      "Epoch 243/250\n",
      "22/22 [==============================] - 0s 2ms/step - loss: 62.1203\n",
      "Epoch 244/250\n",
      "22/22 [==============================] - 0s 2ms/step - loss: 59.6280\n",
      "Epoch 245/250\n",
      "22/22 [==============================] - 0s 2ms/step - loss: 56.4991\n",
      "Epoch 246/250\n",
      "22/22 [==============================] - 0s 2ms/step - loss: 53.7553\n",
      "Epoch 247/250\n",
      "22/22 [==============================] - 0s 2ms/step - loss: 51.2635\n",
      "Epoch 248/250\n",
      "22/22 [==============================] - 0s 3ms/step - loss: 48.8802\n",
      "Epoch 249/250\n",
      "22/22 [==============================] - 0s 3ms/step - loss: 46.7203\n",
      "Epoch 250/250\n",
      "22/22 [==============================] - 0s 3ms/step - loss: 44.2907\n"
     ]
    },
    {
     "data": {
      "text/plain": [
       "<keras.src.callbacks.History at 0x1c5a7af1350>"
      ]
     },
     "execution_count": 24,
     "metadata": {},
     "output_type": "execute_result"
    }
   ],
   "source": [
    "model.fit(X_train,y_train,epochs=250)"
   ]
  },
  {
   "cell_type": "markdown",
   "metadata": {},
   "source": [
    "## Evaluation\n",
    "\n",
    "Let's evaluate our performance on our training set and our test set. We can compare these two performances to check for overfitting."
   ]
  },
  {
   "cell_type": "code",
   "execution_count": null,
   "metadata": {},
   "outputs": [],
   "source": [
    "model.history.history"
   ]
  },
  {
   "cell_type": "code",
   "execution_count": 30,
   "metadata": {},
   "outputs": [],
   "source": [
    "loss = model.history.history['loss']"
   ]
  },
  {
   "cell_type": "code",
   "execution_count": 31,
   "metadata": {
    "scrolled": true
   },
   "outputs": [
    {
     "data": {
      "image/png": "[encoded data removed]",
      "text/plain": [
       "<Figure size 640x480 with 1 Axes>"
      ]
     },
     "metadata": {},
     "output_type": "display_data"
    }
   ],
   "source": [
    "sns.lineplot(x=range(len(loss)),y=loss)\n",
    "plt.title(\"Training Loss per Epoch\");"
   ]
  },
  {
   "cell_type": "markdown",
   "metadata": {},
   "source": [
    "### Compare final evaluation (MSE) on training set and test set.\n",
    "\n",
    "These should hopefully be fairly close to each other."
   ]
  },
  {
   "cell_type": "code",
   "execution_count": 32,
   "metadata": {},
   "outputs": [
    {
     "data": {
      "text/plain": [
       "['loss']"
      ]
     },
     "execution_count": 32,
     "metadata": {},
     "output_type": "execute_result"
    }
   ],
   "source": [
    "model.metrics_names"
   ]
  },
  {
   "cell_type": "code",
   "execution_count": 33,
   "metadata": {},
   "outputs": [],
   "source": [
    "training_score = model.evaluate(X_train,y_train,verbose=0)\n",
    "test_score = model.evaluate(X_test,y_test,verbose=0)"
   ]
  },
  {
   "cell_type": "code",
   "execution_count": 34,
   "metadata": {},
   "outputs": [
    {
     "data": {
      "text/plain": [
       "24.447282791137695"
      ]
     },
     "execution_count": 34,
     "metadata": {},
     "output_type": "execute_result"
    }
   ],
   "source": [
    "training_score"
   ]
  },
  {
   "cell_type": "code",
   "execution_count": 35,
   "metadata": {},
   "outputs": [
    {
     "data": {
      "text/plain": [
       "25.112321853637695"
      ]
     },
     "execution_count": 35,
     "metadata": {},
     "output_type": "execute_result"
    }
   ],
   "source": [
    "test_score"
   ]
  },
  {
   "cell_type": "markdown",
   "metadata": {},
   "source": [
    "### Further Evaluations"
   ]
  },
  {
   "cell_type": "code",
   "execution_count": 36,
   "metadata": {},
   "outputs": [
    {
     "name": "stdout",
     "output_type": "stream",
     "text": [
      "10/10 [==============================] - 0s 1ms/step\n"
     ]
    }
   ],
   "source": [
    "test_predictions = model.predict(X_test)"
   ]
  },
  {
   "cell_type": "code",
   "execution_count": null,
   "metadata": {},
   "outputs": [],
   "source": [
    "test_predictions"
   ]
  },
  {
   "cell_type": "code",
   "execution_count": 38,
   "metadata": {},
   "outputs": [],
   "source": [
    "pred_df = pd.DataFrame(y_test,columns=['Test Y'])"
   ]
  },
  {
   "cell_type": "code",
   "execution_count": 39,
   "metadata": {},
   "outputs": [
    {
     "data": {
      "text/html": [
       "<div>\n",
       "<style scoped>\n",
       "    .dataframe tbody tr th:only-of-type {\n",
       "        vertical-align: middle;\n",
       "    }\n",
       "\n",
       "    .dataframe tbody tr th {\n",
       "        vertical-align: top;\n",
       "    }\n",
       "\n",
       "    .dataframe thead th {\n",
       "        text-align: right;\n",
       "    }\n",
       "</style>\n",
       "<table border=\"1\" class=\"dataframe\">\n",
       "  <thead>\n",
       "    <tr style=\"text-align: right;\">\n",
       "      <th></th>\n",
       "      <th>Test Y</th>\n",
       "    </tr>\n",
       "  </thead>\n",
       "  <tbody>\n",
       "    <tr>\n",
       "      <th>0</th>\n",
       "      <td>402.296319</td>\n",
       "    </tr>\n",
       "    <tr>\n",
       "      <th>1</th>\n",
       "      <td>624.156198</td>\n",
       "    </tr>\n",
       "    <tr>\n",
       "      <th>2</th>\n",
       "      <td>582.455066</td>\n",
       "    </tr>\n",
       "    <tr>\n",
       "      <th>3</th>\n",
       "      <td>578.588606</td>\n",
       "    </tr>\n",
       "    <tr>\n",
       "      <th>4</th>\n",
       "      <td>371.224104</td>\n",
       "    </tr>\n",
       "    <tr>\n",
       "      <th>...</th>\n",
       "      <td>...</td>\n",
       "    </tr>\n",
       "    <tr>\n",
       "      <th>295</th>\n",
       "      <td>525.704657</td>\n",
       "    </tr>\n",
       "    <tr>\n",
       "      <th>296</th>\n",
       "      <td>502.909473</td>\n",
       "    </tr>\n",
       "    <tr>\n",
       "      <th>297</th>\n",
       "      <td>612.727910</td>\n",
       "    </tr>\n",
       "    <tr>\n",
       "      <th>298</th>\n",
       "      <td>417.569725</td>\n",
       "    </tr>\n",
       "    <tr>\n",
       "      <th>299</th>\n",
       "      <td>410.538250</td>\n",
       "    </tr>\n",
       "  </tbody>\n",
       "</table>\n",
       "<p>300 rows × 1 columns</p>\n",
       "</div>"
      ],
      "text/plain": [
       "         Test Y\n",
       "0    402.296319\n",
       "1    624.156198\n",
       "2    582.455066\n",
       "3    578.588606\n",
       "4    371.224104\n",
       "..          ...\n",
       "295  525.704657\n",
       "296  502.909473\n",
       "297  612.727910\n",
       "298  417.569725\n",
       "299  410.538250\n",
       "\n",
       "[300 rows x 1 columns]"
      ]
     },
     "execution_count": 39,
     "metadata": {},
     "output_type": "execute_result"
    }
   ],
   "source": [
    "pred_df"
   ]
  },
  {
   "cell_type": "code",
   "execution_count": 40,
   "metadata": {},
   "outputs": [],
   "source": [
    "test_predictions = pd.Series(test_predictions.reshape(300,))"
   ]
  },
  {
   "cell_type": "code",
   "execution_count": 41,
   "metadata": {},
   "outputs": [
    {
     "data": {
      "text/plain": [
       "0      404.810913\n",
       "1      622.962585\n",
       "2      591.569031\n",
       "3      571.671875\n",
       "4      366.154572\n",
       "          ...    \n",
       "295    528.510193\n",
       "296    514.802063\n",
       "297    609.080933\n",
       "298    416.471313\n",
       "299    410.394257\n",
       "Length: 300, dtype: float32"
      ]
     },
     "execution_count": 41,
     "metadata": {},
     "output_type": "execute_result"
    }
   ],
   "source": [
    "test_predictions"
   ]
  },
  {
   "cell_type": "code",
   "execution_count": 42,
   "metadata": {},
   "outputs": [],
   "source": [
    "pred_df = pd.concat([pred_df,test_predictions],axis=1)"
   ]
  },
  {
   "cell_type": "code",
   "execution_count": 43,
   "metadata": {},
   "outputs": [],
   "source": [
    "pred_df.columns = ['Test Y','Model Predictions']"
   ]
  },
  {
   "cell_type": "code",
   "execution_count": 44,
   "metadata": {},
   "outputs": [
    {
     "data": {
      "text/html": [
       "<div>\n",
       "<style scoped>\n",
       "    .dataframe tbody tr th:only-of-type {\n",
       "        vertical-align: middle;\n",
       "    }\n",
       "\n",
       "    .dataframe tbody tr th {\n",
       "        vertical-align: top;\n",
       "    }\n",
       "\n",
       "    .dataframe thead th {\n",
       "        text-align: right;\n",
       "    }\n",
       "</style>\n",
       "<table border=\"1\" class=\"dataframe\">\n",
       "  <thead>\n",
       "    <tr style=\"text-align: right;\">\n",
       "      <th></th>\n",
       "      <th>Test Y</th>\n",
       "      <th>Model Predictions</th>\n",
       "    </tr>\n",
       "  </thead>\n",
       "  <tbody>\n",
       "    <tr>\n",
       "      <th>0</th>\n",
       "      <td>402.296319</td>\n",
       "      <td>404.810913</td>\n",
       "    </tr>\n",
       "    <tr>\n",
       "      <th>1</th>\n",
       "      <td>624.156198</td>\n",
       "      <td>622.962585</td>\n",
       "    </tr>\n",
       "    <tr>\n",
       "      <th>2</th>\n",
       "      <td>582.455066</td>\n",
       "      <td>591.569031</td>\n",
       "    </tr>\n",
       "    <tr>\n",
       "      <th>3</th>\n",
       "      <td>578.588606</td>\n",
       "      <td>571.671875</td>\n",
       "    </tr>\n",
       "    <tr>\n",
       "      <th>4</th>\n",
       "      <td>371.224104</td>\n",
       "      <td>366.154572</td>\n",
       "    </tr>\n",
       "    <tr>\n",
       "      <th>...</th>\n",
       "      <td>...</td>\n",
       "      <td>...</td>\n",
       "    </tr>\n",
       "    <tr>\n",
       "      <th>295</th>\n",
       "      <td>525.704657</td>\n",
       "      <td>528.510193</td>\n",
       "    </tr>\n",
       "    <tr>\n",
       "      <th>296</th>\n",
       "      <td>502.909473</td>\n",
       "      <td>514.802063</td>\n",
       "    </tr>\n",
       "    <tr>\n",
       "      <th>297</th>\n",
       "      <td>612.727910</td>\n",
       "      <td>609.080933</td>\n",
       "    </tr>\n",
       "    <tr>\n",
       "      <th>298</th>\n",
       "      <td>417.569725</td>\n",
       "      <td>416.471313</td>\n",
       "    </tr>\n",
       "    <tr>\n",
       "      <th>299</th>\n",
       "      <td>410.538250</td>\n",
       "      <td>410.394257</td>\n",
       "    </tr>\n",
       "  </tbody>\n",
       "</table>\n",
       "<p>300 rows × 2 columns</p>\n",
       "</div>"
      ],
      "text/plain": [
       "         Test Y  Model Predictions\n",
       "0    402.296319         404.810913\n",
       "1    624.156198         622.962585\n",
       "2    582.455066         591.569031\n",
       "3    578.588606         571.671875\n",
       "4    371.224104         366.154572\n",
       "..          ...                ...\n",
       "295  525.704657         528.510193\n",
       "296  502.909473         514.802063\n",
       "297  612.727910         609.080933\n",
       "298  417.569725         416.471313\n",
       "299  410.538250         410.394257\n",
       "\n",
       "[300 rows x 2 columns]"
      ]
     },
     "execution_count": 44,
     "metadata": {},
     "output_type": "execute_result"
    }
   ],
   "source": [
    "pred_df"
   ]
  },
  {
   "cell_type": "markdown",
   "metadata": {},
   "source": [
    "Let's compare to the real test labels!"
   ]
  },
  {
   "cell_type": "code",
   "execution_count": 45,
   "metadata": {},
   "outputs": [
    {
     "data": {
      "text/plain": [
       "<Axes: xlabel='Test Y', ylabel='Model Predictions'>"
      ]
     },
     "execution_count": 45,
     "metadata": {},
     "output_type": "execute_result"
    },
    {
     "data": {
      "image/png": "[encoded data removed]",
      "text/plain": [
       "<Figure size 640x480 with 1 Axes>"
      ]
     },
     "metadata": {},
     "output_type": "display_data"
    }
   ],
   "source": [
    "sns.scatterplot(x='Test Y',y='Model Predictions',data=pred_df)"
   ]
  },
  {
   "cell_type": "code",
   "execution_count": 46,
   "metadata": {},
   "outputs": [],
   "source": [
    "pred_df['Error'] = pred_df['Test Y'] - pred_df['Model Predictions']"
   ]
  },
  {
   "cell_type": "code",
   "execution_count": 47,
   "metadata": {},
   "outputs": [
    {
     "data": {
      "text/plain": [
       "<Axes: xlabel='Error', ylabel='Density'>"
      ]
     },
     "execution_count": 47,
     "metadata": {},
     "output_type": "execute_result"
    },
    {
     "data": {
      "image/png": "[encoded data removed]",
      "text/plain": [
       "<Figure size 640x480 with 1 Axes>"
      ]
     },
     "metadata": {},
     "output_type": "display_data"
    }
   ],
   "source": [
    "sns.distplot(pred_df['Error'],bins=50)"
   ]
  },
  {
   "cell_type": "code",
   "execution_count": 48,
   "metadata": {},
   "outputs": [],
   "source": [
    "from sklearn.metrics import mean_absolute_error,mean_squared_error"
   ]
  },
  {
   "cell_type": "code",
   "execution_count": 49,
   "metadata": {},
   "outputs": [
    {
     "data": {
      "text/plain": [
       "4.011927194396857"
      ]
     },
     "execution_count": 49,
     "metadata": {},
     "output_type": "execute_result"
    }
   ],
   "source": [
    "mean_absolute_error(pred_df['Test Y'],pred_df['Model Predictions'])"
   ]
  },
  {
   "cell_type": "code",
   "execution_count": 50,
   "metadata": {},
   "outputs": [
    {
     "data": {
      "text/plain": [
       "25.112315233393847"
      ]
     },
     "execution_count": 50,
     "metadata": {},
     "output_type": "execute_result"
    }
   ],
   "source": [
    "mean_squared_error(pred_df['Test Y'],pred_df['Model Predictions'])"
   ]
  },
  {
   "cell_type": "code",
   "execution_count": 51,
   "metadata": {},
   "outputs": [
    {
     "data": {
      "text/plain": [
       "25.112321853637695"
      ]
     },
     "execution_count": 51,
     "metadata": {},
     "output_type": "execute_result"
    }
   ],
   "source": [
    "# Essentially the same thing, difference just due to precision\n",
    "test_score"
   ]
  },
  {
   "cell_type": "code",
   "execution_count": 52,
   "metadata": {},
   "outputs": [
    {
     "data": {
      "text/plain": [
       "5.011219597427127"
      ]
     },
     "execution_count": 52,
     "metadata": {},
     "output_type": "execute_result"
    }
   ],
   "source": [
    "#RMSE\n",
    "test_score**0.5"
   ]
  },
  {
   "cell_type": "markdown",
   "metadata": {},
   "source": [
    "# Predicting on brand new data\n",
    "\n",
    "What if we just saw a brand new gemstone from the ground? What should we price it at? This is the **exact** same procedure as predicting on a new test data!"
   ]
  },
  {
   "cell_type": "code",
   "execution_count": 53,
   "metadata": {},
   "outputs": [],
   "source": [
    "# [[Feature1, Feature2]]\n",
    "new_gem = [[998,1000]]"
   ]
  },
  {
   "cell_type": "code",
   "execution_count": 54,
   "metadata": {},
   "outputs": [
    {
     "data": {
      "text/plain": [
       "array([[0.14117652, 0.53968792]])"
      ]
     },
     "execution_count": 54,
     "metadata": {},
     "output_type": "execute_result"
    }
   ],
   "source": [
    "# Don't forget to scale!\n",
    "scaler.transform(new_gem)"
   ]
  },
  {
   "cell_type": "code",
   "execution_count": 55,
   "metadata": {},
   "outputs": [],
   "source": [
    "new_gem = scaler.transform(new_gem)"
   ]
  },
  {
   "cell_type": "code",
   "execution_count": 56,
   "metadata": {},
   "outputs": [
    {
     "name": "stdout",
     "output_type": "stream",
     "text": [
      "1/1 [==============================] - 0s 21ms/step\n"
     ]
    },
    {
     "data": {
      "text/plain": [
       "array([[419.2008]], dtype=float32)"
      ]
     },
     "execution_count": 56,
     "metadata": {},
     "output_type": "execute_result"
    }
   ],
   "source": [
    "model.predict(new_gem)"
   ]
  },
  {
   "cell_type": "markdown",
   "metadata": {},
   "source": [
    "## Saving and Loading a Model"
   ]
  },
  {
   "cell_type": "code",
   "execution_count": 57,
   "metadata": {},
   "outputs": [],
   "source": [
    "from tensorflow.keras.models import load_model"
   ]
  },
  {
   "cell_type": "code",
   "execution_count": 58,
   "metadata": {},
   "outputs": [],
   "source": [
    "model.save('my_model.h5')  # creates a HDF5 file 'my_model.h5'"
   ]
  },
  {
   "cell_type": "code",
   "execution_count": 59,
   "metadata": {},
   "outputs": [],
   "source": [
    "later_model = load_model('my_model.h5')"
   ]
  },
  {
   "cell_type": "code",
   "execution_count": 60,
   "metadata": {},
   "outputs": [
    {
     "name": "stdout",
     "output_type": "stream",
     "text": [
      "1/1 [==============================] - 0s 61ms/step\n"
     ]
    },
    {
     "data": {
      "text/plain": [
       "array([[419.2008]], dtype=float32)"
      ]
     },
     "execution_count": 60,
     "metadata": {},
     "output_type": "execute_result"
    }
   ],
   "source": [
    "later_model.predict(new_gem)"
   ]
  },
  {
   "cell_type": "code",
   "execution_count": null,
   "metadata": {},
   "outputs": [],
   "source": []
  }
 ],
 "metadata": {
  "kernelspec": {
   "display_name": "Python 3 (ipykernel)",
   "language": "python",
   "name": "python3"
  },
  "language_info": {
   "codemirror_mode": {
    "name": "ipython",
    "version": 3
   },
   "file_extension": ".py",
   "mimetype": "text/x-python",
   "name": "python",
   "nbconvert_exporter": "python",
   "pygments_lexer": "ipython3",
   "version": "3.11.5"
  }
 },
 "nbformat": 4,
 "nbformat_minor": 4
}
